{
 "cells": [
  {
   "attachments": {},
   "cell_type": "markdown",
   "metadata": {},
   "source": [
    "- Crie uma lista\n"
   ]
  },
  {
   "cell_type": "code",
   "execution_count": 38,
   "metadata": {},
   "outputs": [],
   "source": [
    "lista = ['Ovo', 'Alface', 'Presunto']"
   ]
  },
  {
   "attachments": {},
   "cell_type": "markdown",
   "metadata": {},
   "source": [
    "- Usando o recurso dictionary comprehension, crie um dicionário cuja a chave é o comprimento do item e o valor, o próprio item da lista.\n"
   ]
  },
  {
   "cell_type": "code",
   "execution_count": 39,
   "metadata": {},
   "outputs": [
    {
     "name": "stdout",
     "output_type": "stream",
     "text": [
      "{'3': 'Ovo', '6': 'Alface', '8': 'Presunto'}\n"
     ]
    }
   ],
   "source": [
    "dicionario = {f'{len(item)}': item for item in lista}\n",
    "\n",
    "print(dicionario)"
   ]
  },
  {
   "attachments": {},
   "cell_type": "markdown",
   "metadata": {},
   "source": [
    "- Crie uma lista de tuplas\n"
   ]
  },
  {
   "cell_type": "code",
   "execution_count": 40,
   "metadata": {},
   "outputs": [],
   "source": [
    "lista_tuplas = [('palavras', 'aleatorias'),(1,5)]"
   ]
  },
  {
   "attachments": {},
   "cell_type": "markdown",
   "metadata": {},
   "source": [
    "- Usando o recurso dictionary comprehension, crie um dicionário cuja a chave é o primeiro item da tupla e o valor, o segundo\n"
   ]
  },
  {
   "cell_type": "code",
   "execution_count": 41,
   "metadata": {},
   "outputs": [
    {
     "name": "stdout",
     "output_type": "stream",
     "text": [
      "{'palavras': 'aleatorias', 1: 5}\n"
     ]
    }
   ],
   "source": [
    "\n",
    "dicionario_tupla = {chave:valor for (chave, valor) in lista_tuplas}\n",
    "\n",
    "print(dicionario_tupla)"
   ]
  },
  {
   "attachments": {},
   "cell_type": "markdown",
   "metadata": {},
   "source": [
    "- Crie um dicionário\n"
   ]
  },
  {
   "cell_type": "code",
   "execution_count": 49,
   "metadata": {},
   "outputs": [
    {
     "name": "stdout",
     "output_type": "stream",
     "text": [
      "{1: 'gato', 2: 'cachorro', 3: 'papagaio', 4: 'peixe', 5: 'furão', 3415: 'arvore', 3895: 'janela'}\n"
     ]
    }
   ],
   "source": [
    "dicionario2 = {1:'gato',2:'cachorro',3:'papagaio',4:'peixe',5:'furão',3415:'arvore',3895:'janela'}\n",
    "print(dicionario2)\n",
    "\n",
    "dicionario3 = {'mam':'cachorro', 'gente':'pessoas', 'pei':'beta', 'aves':'dodo','non':'ornitorrinco'}"
   ]
  },
  {
   "attachments": {},
   "cell_type": "markdown",
   "metadata": {},
   "source": [
    "- Usando o recurso dictionary comprehension, crie um novo dicionário cuja a chave é uma maniputação do valor\n"
   ]
  },
  {
   "cell_type": "code",
   "execution_count": 46,
   "metadata": {},
   "outputs": [
    {
     "name": "stdout",
     "output_type": "stream",
     "text": [
      "{'gatogato': 'gato', 'cachorrocachorro': 'cachorro', 'papagaiopapagaio': 'papagaio', 'peixepeixe': 'peixe', 'furãofurão': 'furão', 'arvorearvore': 'arvore', 'janelajanela': 'janela'}\n"
     ]
    }
   ],
   "source": [
    "dicionario_man = {(valor*2):valor for (chave, valor) in dicionario2.items()}\n",
    "print(dicionario_man)"
   ]
  },
  {
   "attachments": {},
   "cell_type": "markdown",
   "metadata": {},
   "source": [
    "- Usando o recurso dictionary comprehension, crie um dicionário só com chaves com commprimento menor ou igual a 3\n"
   ]
  },
  {
   "cell_type": "code",
   "execution_count": 51,
   "metadata": {},
   "outputs": [
    {
     "name": "stdout",
     "output_type": "stream",
     "text": [
      "{'mam': 'cachorro', 'pei': 'beta', 'non': 'ornitorrinco'}\n"
     ]
    }
   ],
   "source": [
    "dicionario_len3 = {chave:valor for (chave,valor) in dicionario3.items() if len(chave)<=3}\n",
    "print(dicionario_len3)"
   ]
  }
 ],
 "metadata": {
  "kernelspec": {
   "display_name": "Python 3",
   "language": "python",
   "name": "python3"
  },
  "language_info": {
   "codemirror_mode": {
    "name": "ipython",
    "version": 3
   },
   "file_extension": ".py",
   "mimetype": "text/x-python",
   "name": "python",
   "nbconvert_exporter": "python",
   "pygments_lexer": "ipython3",
   "version": "3.11.1"
  },
  "orig_nbformat": 4,
  "vscode": {
   "interpreter": {
    "hash": "916dbcbb3f70747c44a77c7bcd40155683ae19c65e1c03b4aa3499c5328201f1"
   }
  }
 },
 "nbformat": 4,
 "nbformat_minor": 2
}
