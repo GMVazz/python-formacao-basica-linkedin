{
 "cells": [
  {
   "attachments": {},
   "cell_type": "markdown",
   "metadata": {},
   "source": [
    "- Crie uma lista com 30 dados do tipo numérico\n"
   ]
  },
  {
   "cell_type": "code",
   "execution_count": 1,
   "metadata": {},
   "outputs": [
    {
     "name": "stdout",
     "output_type": "stream",
     "text": [
      "[0, 1, 2, 3, 4, 5, 6, 7, 8, 9, 10, 11, 12, 13, 14, 15, 16, 17, 18, 19, 20, 21, 22, 23, 24, 25, 26, 27, 28, 29]\n"
     ]
    }
   ],
   "source": [
    "lista = list(range(30))\n",
    "print(lista)"
   ]
  },
  {
   "attachments": {},
   "cell_type": "markdown",
   "metadata": {},
   "source": [
    "- Dentro de um for loop, crie uma estrutura condicional que imprima na tela o número, caso ele seja maior do que 20. Se o número for 20, imprima 'Esse número é igual a 20.’ e se for maior do que 20, imprima ‘Esse número é maior do que 20.’\n"
   ]
  },
  {
   "cell_type": "code",
   "execution_count": 2,
   "metadata": {},
   "outputs": [
    {
     "name": "stdout",
     "output_type": "stream",
     "text": [
      "0 Esse número é menor que 20.\n",
      "1 Esse número é menor que 20.\n",
      "2 Esse número é menor que 20.\n",
      "3 Esse número é menor que 20.\n",
      "4 Esse número é menor que 20.\n",
      "5 Esse número é menor que 20.\n",
      "6 Esse número é menor que 20.\n",
      "7 Esse número é menor que 20.\n",
      "8 Esse número é menor que 20.\n",
      "9 Esse número é menor que 20.\n",
      "10 Esse número é menor que 20.\n",
      "11 Esse número é menor que 20.\n",
      "12 Esse número é menor que 20.\n",
      "13 Esse número é menor que 20.\n",
      "14 Esse número é menor que 20.\n",
      "15 Esse número é menor que 20.\n",
      "16 Esse número é menor que 20.\n",
      "17 Esse número é menor que 20.\n",
      "18 Esse número é menor que 20.\n",
      "19 Esse número é menor que 20.\n",
      "Esse número é igual a 20\n",
      "21 Esse número é maior que 20\n",
      "22 Esse número é maior que 20\n",
      "23 Esse número é maior que 20\n",
      "24 Esse número é maior que 20\n",
      "25 Esse número é maior que 20\n",
      "26 Esse número é maior que 20\n",
      "27 Esse número é maior que 20\n",
      "28 Esse número é maior que 20\n",
      "29 Esse número é maior que 20\n"
     ]
    }
   ],
   "source": [
    "for item in lista:\n",
    "    if item>20:\n",
    "        print(item, 'Esse número é maior que 20')\n",
    "    elif item == 20:\n",
    "        print('Esse número é igual a 20')\n",
    "    else:\n",
    "        print(item, 'Esse número é menor que 20.')\n",
    "\n"
   ]
  },
  {
   "attachments": {},
   "cell_type": "markdown",
   "metadata": {},
   "source": [
    "- Crie as seguintes variáveis contendo listas vazias: ate_12, entre_13_e_20, maior_21"
   ]
  },
  {
   "cell_type": "code",
   "execution_count": 3,
   "metadata": {},
   "outputs": [],
   "source": [
    "ate_12 = []\n",
    "entre_13_e_20 = []\n",
    "maior_21 = []\n"
   ]
  },
  {
   "attachments": {},
   "cell_type": "markdown",
   "metadata": {},
   "source": [
    "- Dentro de um for loop, crie uma estrutura condicional que distribua em cada lista os números seguindo as condições abaixo: \n",
    "1. se o número for menor do que 12, armazene-o na lista ate_12\n",
    "2. se o número estiver entre 13 e 20, amazene-o na lista entre_13_e_20\n",
    "3. se o número for maior do 21, armazene-o na lista maior_21\n",
    "\n"
   ]
  },
  {
   "cell_type": "code",
   "execution_count": 4,
   "metadata": {},
   "outputs": [
    {
     "name": "stdout",
     "output_type": "stream",
     "text": [
      "[0, 1, 2, 3, 4, 5, 6, 7, 8, 9, 10, 11, 12]\n",
      "[13, 14, 15, 16, 17, 18, 19, 20]\n",
      "[21, 22, 23, 24, 25, 26, 27, 28, 29]\n"
     ]
    }
   ],
   "source": [
    "for item in lista:\n",
    "    if item <= 12:\n",
    "        ate_12.append(item)\n",
    "    elif item >= 13 and item <= 20:\n",
    "        entre_13_e_20.append(item)\n",
    "    else:\n",
    "        maior_21.append(item)\n",
    "\n",
    "print(ate_12)\n",
    "print(entre_13_e_20)\n",
    "print(maior_21)"
   ]
  }
 ],
 "metadata": {
  "kernelspec": {
   "display_name": "Python 3",
   "language": "python",
   "name": "python3"
  },
  "language_info": {
   "codemirror_mode": {
    "name": "ipython",
    "version": 3
   },
   "file_extension": ".py",
   "mimetype": "text/x-python",
   "name": "python",
   "nbconvert_exporter": "python",
   "pygments_lexer": "ipython3",
   "version": "3.11.1"
  },
  "orig_nbformat": 4,
  "vscode": {
   "interpreter": {
    "hash": "916dbcbb3f70747c44a77c7bcd40155683ae19c65e1c03b4aa3499c5328201f1"
   }
  }
 },
 "nbformat": 4,
 "nbformat_minor": 2
}
