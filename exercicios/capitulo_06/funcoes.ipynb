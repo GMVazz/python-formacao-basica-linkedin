{
 "cells": [
  {
   "attachments": {},
   "cell_type": "markdown",
   "metadata": {},
   "source": [
    "- Crie uma função que receba como argumento 2 números e 1 operação matemática\n"
   ]
  },
  {
   "cell_type": "code",
   "execution_count": 11,
   "metadata": {},
   "outputs": [
    {
     "name": "stdout",
     "output_type": "stream",
     "text": [
      "11\n"
     ]
    }
   ],
   "source": [
    "def arith(num1, num2, operacao):\n",
    "    if operacao == 'SOMA':\n",
    "        return (num1 + num2)\n",
    "    elif operacao == 'MULTIPLICACAO':\n",
    "        return (num1 * num2)\n",
    "    elif operacao == 'DIVISAO':\n",
    "        return (num1 / num2)\n",
    "    else:\n",
    "        return (num1 - num2)\n",
    "    "
   ]
  },
  {
   "attachments": {},
   "cell_type": "markdown",
   "metadata": {},
   "source": [
    "- Implemente as funções de soma e multiplicação, nessa função\n"
   ]
  },
  {
   "cell_type": "code",
   "execution_count": null,
   "metadata": {},
   "outputs": [],
   "source": [
    "#ja feito bloco de cima"
   ]
  },
  {
   "attachments": {},
   "cell_type": "markdown",
   "metadata": {},
   "source": [
    "- Modifique a função para que receba uma quantidade de argumentos não previsível e os imprima na tela\n"
   ]
  },
  {
   "cell_type": "code",
   "execution_count": 12,
   "metadata": {},
   "outputs": [
    {
     "name": "stdout",
     "output_type": "stream",
     "text": [
      "(12, 15, 17, 16, 3, 2)\n"
     ]
    }
   ],
   "source": [
    "def diziaeu(*numeros): #utiliza argumentos não nominais, não sendo necessário nomear cada argumento da função e os armazena em tuplas\n",
    "    return numeros\n",
    "\n",
    "print(diziaeu(12,15,17,16,3,2))\n"
   ]
  },
  {
   "cell_type": "code",
   "execution_count": 13,
   "metadata": {},
   "outputs": [
    {
     "data": {
      "text/plain": [
       "((5, 6, 7, 65, 965, 12), {'operacao': 'soma', 'pet': 'gata'})"
      ]
     },
     "execution_count": 13,
     "metadata": {},
     "output_type": "execute_result"
    }
   ],
   "source": [
    "def diziaeu2(*numeros,**kwargs):\n",
    "    return numeros, kwargs\n",
    "\n",
    "diziaeu2(5,6,7,65,965,12, operacao = 'soma',pet = 'gata')"
   ]
  },
  {
   "attachments": {},
   "cell_type": "markdown",
   "metadata": {},
   "source": [
    "- Use a biblioteca math para otimizar a função\n"
   ]
  },
  {
   "attachments": {},
   "cell_type": "markdown",
   "metadata": {},
   "source": [
    "- Escreva uma função do tipo lambda"
   ]
  }
 ],
 "metadata": {
  "kernelspec": {
   "display_name": "Python 3",
   "language": "python",
   "name": "python3"
  },
  "language_info": {
   "codemirror_mode": {
    "name": "ipython",
    "version": 3
   },
   "file_extension": ".py",
   "mimetype": "text/x-python",
   "name": "python",
   "nbconvert_exporter": "python",
   "pygments_lexer": "ipython3",
   "version": "3.11.1"
  },
  "orig_nbformat": 4,
  "vscode": {
   "interpreter": {
    "hash": "916dbcbb3f70747c44a77c7bcd40155683ae19c65e1c03b4aa3499c5328201f1"
   }
  }
 },
 "nbformat": 4,
 "nbformat_minor": 2
}
